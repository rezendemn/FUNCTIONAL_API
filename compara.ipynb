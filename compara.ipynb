{
  "nbformat": 4,
  "nbformat_minor": 0,
  "metadata": {
    "colab": {
      "name": "igual.ipynb",
      "provenance": []
    },
    "kernelspec": {
      "name": "python3",
      "display_name": "Python 3"
    },
    "accelerator": "GPU"
  },
  "cells": [
    {
      "cell_type": "markdown",
      "metadata": {
        "id": "QaX5DHEXGoo3"
      },
      "source": [
        "Rede que compara dígitos feitos à mão<br/>\n",
        "Utiliza tensorflow 2.0  e Keras (Functional API) para montar a rede<br/>\n",
        "com dois inputs (duas figuras que serão comparadas) no modelo combinado."
      ]
    },
    {
      "cell_type": "code",
      "metadata": {
        "id": "Tt9tN5XjtKfQ",
        "outputId": "81fc4fce-d023-46e2-c82c-049704b9290b",
        "colab": {
          "base_uri": "https://localhost:8080/",
          "height": 35
        }
      },
      "source": [
        "import tensorflow as tf\n",
        "import numpy as np\n",
        "import random\n",
        "tf.__version__"
      ],
      "execution_count": 1,
      "outputs": [
        {
          "output_type": "execute_result",
          "data": {
            "application/vnd.google.colaboratory.intrinsic+json": {
              "type": "string"
            },
            "text/plain": [
              "'2.3.0'"
            ]
          },
          "metadata": {
            "tags": []
          },
          "execution_count": 1
        }
      ]
    },
    {
      "cell_type": "code",
      "metadata": {
        "id": "9OVPUDxz_DZ4",
        "outputId": "0dcd14b5-5e03-4d12-d8ba-8cc5aa56458b",
        "colab": {
          "base_uri": "https://localhost:8080/",
          "height": 51
        }
      },
      "source": [
        "from keras.datasets import mnist\n",
        "#download mnist\n",
        "(X_train, y_train), (X_test, y_test) = mnist.load_data()"
      ],
      "execution_count": 2,
      "outputs": [
        {
          "output_type": "stream",
          "text": [
            "Downloading data from https://storage.googleapis.com/tensorflow/tf-keras-datasets/mnist.npz\n",
            "11493376/11490434 [==============================] - 0s 0us/step\n"
          ],
          "name": "stdout"
        }
      ]
    },
    {
      "cell_type": "code",
      "metadata": {
        "id": "fUMVrriT_M8e",
        "outputId": "2d1ed507-e3cf-4f37-e9d8-5765bfa85670",
        "colab": {
          "base_uri": "https://localhost:8080/",
          "height": 34
        }
      },
      "source": [
        "#check image shape\n",
        "X_train[0].shape"
      ],
      "execution_count": 3,
      "outputs": [
        {
          "output_type": "execute_result",
          "data": {
            "text/plain": [
              "(28, 28)"
            ]
          },
          "metadata": {
            "tags": []
          },
          "execution_count": 3
        }
      ]
    },
    {
      "cell_type": "code",
      "metadata": {
        "id": "nzs700fT_P9k",
        "outputId": "4220cfe1-7b51-4a08-f6f7-749f7f4550e6",
        "colab": {
          "base_uri": "https://localhost:8080/",
          "height": 34
        }
      },
      "source": [
        "#reshape data \n",
        "X_train = X_train.reshape(60000,784)\n",
        "X_train[0].shape"
      ],
      "execution_count": 4,
      "outputs": [
        {
          "output_type": "execute_result",
          "data": {
            "text/plain": [
              "(784,)"
            ]
          },
          "metadata": {
            "tags": []
          },
          "execution_count": 4
        }
      ]
    },
    {
      "cell_type": "code",
      "metadata": {
        "id": "8PaB8vTEkkpA"
      },
      "source": [
        "random.seed(51)\n",
        "tf.random.set_seed(51)"
      ],
      "execution_count": 5,
      "outputs": []
    },
    {
      "cell_type": "markdown",
      "metadata": {
        "id": "sHQK_-PKOWFE"
      },
      "source": [
        "Criar dataset X1 e X2....50% (pares iguais de imagens) iguais e 50% diferentes<br/> (pares de imagens diferentes)\n"
      ]
    },
    {
      "cell_type": "code",
      "metadata": {
        "id": "wFtq9a7uOgXC"
      },
      "source": [
        "lind=[]\n",
        "for i in range(10):\n",
        "  lind.append([j for j in range(len(y_train)) if y_train[j]==i])"
      ],
      "execution_count": 6,
      "outputs": []
    },
    {
      "cell_type": "code",
      "metadata": {
        "id": "IUKm-omePMbW"
      },
      "source": [
        "lindi=[]\n",
        "for i in range(10000):\n",
        "  k=random.randint(0,9)\n",
        "  tam=len(lind[k])\n",
        "  p1=random.randint(0,tam-1)\n",
        "  p2=random.randint(0,tam-1)\n",
        "  lindi.append((lind[k][p1],lind[k][p2]))\n"
      ],
      "execution_count": 9,
      "outputs": []
    },
    {
      "cell_type": "code",
      "metadata": {
        "id": "vW6SuW-hRKnL"
      },
      "source": [
        "lindf=[]\n",
        "for i in range(10000):\n",
        "  k1,k2=0,0\n",
        "  while k1==k2:\n",
        "    k1=random.randint(0,9)\n",
        "    k2=random.randint(0,9)\n",
        "\n",
        "  tam1=len(lind[k1])\n",
        "  tam2=len(lind[k2])\n",
        "  p1=random.randint(0,tam1-1)\n",
        "  p2=random.randint(0,tam2-1)\n",
        "  lindf.append((lind[k1][p1],lind[k2][p2]))"
      ],
      "execution_count": 7,
      "outputs": []
    },
    {
      "cell_type": "code",
      "metadata": {
        "id": "7RWGXqvrWthj"
      },
      "source": [
        "X1,X2=[],[]\n",
        "for i in range(len(lindi)):\n",
        "  X1.append(X_train[lindi[i][0]])\n",
        "  X2.append(X_train[lindi[i][1]])\n",
        "for i in range(len(lindf)):\n",
        "  X1.append(X_train[lindf[i][0]])\n",
        "  X2.append(X_train[lindf[i][1]])\n",
        "X1=np.array(X1)\n",
        "X2=np.array(X2)"
      ],
      "execution_count": 10,
      "outputs": []
    },
    {
      "cell_type": "code",
      "metadata": {
        "id": "6We7W--MbT0I"
      },
      "source": [
        "#montagem do target do modelo combinado\n",
        "y=[1]*10000+[0]*10000\n",
        "y=np.array(y)\n"
      ],
      "execution_count": 11,
      "outputs": []
    },
    {
      "cell_type": "code",
      "metadata": {
        "id": "H2nGvl9-lrMI"
      },
      "source": [
        "#embaralhando o dataset\n",
        "l=[i for i in range(20000)]\n",
        "l=random.choices(l,k=20000)"
      ],
      "execution_count": 12,
      "outputs": []
    },
    {
      "cell_type": "code",
      "metadata": {
        "id": "nX6AY58ol4Z3"
      },
      "source": [
        "X1e=[]\n",
        "X2e=[]\n",
        "ye=[]\n",
        "for ind in l:\n",
        "  X1e.append(X1[ind])\n",
        "  X2e.append(X2[ind])\n",
        "  ye.append(y[ind])\n",
        "X1e=np.array(X1e)\n",
        "X2e=np.array(X2e)\n",
        "ye=np.array(ye)"
      ],
      "execution_count": 13,
      "outputs": []
    },
    {
      "cell_type": "code",
      "metadata": {
        "id": "qujyGV9TScza"
      },
      "source": [
        "inp1=tf.keras.Input((784,))\n",
        "inp2=tf.keras.Input((784,))"
      ],
      "execution_count": 14,
      "outputs": []
    },
    {
      "cell_type": "code",
      "metadata": {
        "id": "ZnnKrataRzFc"
      },
      "source": [
        "#modelo da entrada 1\n",
        "o1m1=tf.keras.layers.Dense(200, activation='sigmoid')(inp1)\n",
        "o2m1=tf.keras.layers.Dense(100, activation='sigmoid')(o1m1)\n"
      ],
      "execution_count": 15,
      "outputs": []
    },
    {
      "cell_type": "code",
      "metadata": {
        "id": "KFG3D9KRfPtf"
      },
      "source": [
        "#modelo da entrada 2\n",
        "o1m2=tf.keras.layers.Dense(200, activation='sigmoid')(inp2)\n",
        "o2m2=tf.keras.layers.Dense(100, activation='sigmoid')(o1m2)\n"
      ],
      "execution_count": 16,
      "outputs": []
    },
    {
      "cell_type": "code",
      "metadata": {
        "id": "vkIH4Feh_Ztq"
      },
      "source": [
        "#modelo combinado\n",
        "combined = tf.concat([o2m1, o2m2],axis=1)\n",
        "of1 = tf.keras.layers.Dense(20, activation='relu')(combined)\n",
        "of2 = tf.keras.layers.Dense(1, activation='sigmoid')(of1)\n",
        "model = tf.keras.Model(inputs=[inp1,inp2], outputs=of2)"
      ],
      "execution_count": 17,
      "outputs": []
    },
    {
      "cell_type": "code",
      "metadata": {
        "id": "g48djFTw3Av2",
        "outputId": "c8c607e8-b9ac-48cf-d994-1342204c02f9",
        "colab": {
          "base_uri": "https://localhost:8080/",
          "height": 476
        }
      },
      "source": [
        "model.summary()"
      ],
      "execution_count": 18,
      "outputs": [
        {
          "output_type": "stream",
          "text": [
            "Model: \"functional_1\"\n",
            "__________________________________________________________________________________________________\n",
            "Layer (type)                    Output Shape         Param #     Connected to                     \n",
            "==================================================================================================\n",
            "input_1 (InputLayer)            [(None, 784)]        0                                            \n",
            "__________________________________________________________________________________________________\n",
            "input_2 (InputLayer)            [(None, 784)]        0                                            \n",
            "__________________________________________________________________________________________________\n",
            "dense (Dense)                   (None, 200)          157000      input_1[0][0]                    \n",
            "__________________________________________________________________________________________________\n",
            "dense_2 (Dense)                 (None, 200)          157000      input_2[0][0]                    \n",
            "__________________________________________________________________________________________________\n",
            "dense_1 (Dense)                 (None, 100)          20100       dense[0][0]                      \n",
            "__________________________________________________________________________________________________\n",
            "dense_3 (Dense)                 (None, 100)          20100       dense_2[0][0]                    \n",
            "__________________________________________________________________________________________________\n",
            "tf_op_layer_concat (TensorFlowO [(None, 200)]        0           dense_1[0][0]                    \n",
            "                                                                 dense_3[0][0]                    \n",
            "__________________________________________________________________________________________________\n",
            "dense_4 (Dense)                 (None, 20)           4020        tf_op_layer_concat[0][0]         \n",
            "__________________________________________________________________________________________________\n",
            "dense_5 (Dense)                 (None, 1)            21          dense_4[0][0]                    \n",
            "==================================================================================================\n",
            "Total params: 358,241\n",
            "Trainable params: 358,241\n",
            "Non-trainable params: 0\n",
            "__________________________________________________________________________________________________\n"
          ],
          "name": "stdout"
        }
      ]
    },
    {
      "cell_type": "code",
      "metadata": {
        "id": "EpXJPY7c_deX"
      },
      "source": [
        "#compile model using accuracy to measure model performance\n",
        "model.compile(loss='binary_crossentropy', metrics=['accuracy'])"
      ],
      "execution_count": 19,
      "outputs": []
    },
    {
      "cell_type": "code",
      "metadata": {
        "id": "lEXXBRQ__gj9",
        "outputId": "e475e3b5-1be1-4284-be49-dabee576df69",
        "colab": {
          "base_uri": "https://localhost:8080/",
          "height": 1000
        }
      },
      "source": [
        "#train the model\n",
        "hist=model.fit([X1e,X2e], ye,validation_split=0.2,epochs=50)"
      ],
      "execution_count": 20,
      "outputs": [
        {
          "output_type": "stream",
          "text": [
            "Epoch 1/50\n",
            "500/500 [==============================] - 2s 5ms/step - loss: 0.7022 - accuracy: 0.5036 - val_loss: 0.6937 - val_accuracy: 0.5055\n",
            "Epoch 2/50\n",
            "500/500 [==============================] - 2s 4ms/step - loss: 0.6804 - accuracy: 0.5355 - val_loss: 0.6465 - val_accuracy: 0.5838\n",
            "Epoch 3/50\n",
            "500/500 [==============================] - 2s 4ms/step - loss: 0.6172 - accuracy: 0.6213 - val_loss: 0.5991 - val_accuracy: 0.6457\n",
            "Epoch 4/50\n",
            "500/500 [==============================] - 2s 4ms/step - loss: 0.5675 - accuracy: 0.6833 - val_loss: 0.5571 - val_accuracy: 0.7005\n",
            "Epoch 5/50\n",
            "500/500 [==============================] - 2s 4ms/step - loss: 0.5295 - accuracy: 0.7194 - val_loss: 0.5233 - val_accuracy: 0.7355\n",
            "Epoch 6/50\n",
            "500/500 [==============================] - 2s 4ms/step - loss: 0.5019 - accuracy: 0.7460 - val_loss: 0.4989 - val_accuracy: 0.7415\n",
            "Epoch 7/50\n",
            "500/500 [==============================] - 2s 4ms/step - loss: 0.4817 - accuracy: 0.7567 - val_loss: 0.4840 - val_accuracy: 0.7575\n",
            "Epoch 8/50\n",
            "500/500 [==============================] - 2s 4ms/step - loss: 0.4589 - accuracy: 0.7781 - val_loss: 0.4625 - val_accuracy: 0.7780\n",
            "Epoch 9/50\n",
            "500/500 [==============================] - 2s 4ms/step - loss: 0.4274 - accuracy: 0.7984 - val_loss: 0.4232 - val_accuracy: 0.8130\n",
            "Epoch 10/50\n",
            "500/500 [==============================] - 2s 4ms/step - loss: 0.3870 - accuracy: 0.8298 - val_loss: 0.3982 - val_accuracy: 0.8278\n",
            "Epoch 11/50\n",
            "500/500 [==============================] - 2s 4ms/step - loss: 0.3646 - accuracy: 0.8404 - val_loss: 0.3965 - val_accuracy: 0.8303\n",
            "Epoch 12/50\n",
            "500/500 [==============================] - 2s 4ms/step - loss: 0.3448 - accuracy: 0.8510 - val_loss: 0.3665 - val_accuracy: 0.8410\n",
            "Epoch 13/50\n",
            "500/500 [==============================] - 2s 4ms/step - loss: 0.3202 - accuracy: 0.8642 - val_loss: 0.3526 - val_accuracy: 0.8465\n",
            "Epoch 14/50\n",
            "500/500 [==============================] - 2s 4ms/step - loss: 0.3029 - accuracy: 0.8717 - val_loss: 0.3388 - val_accuracy: 0.8585\n",
            "Epoch 15/50\n",
            "500/500 [==============================] - 2s 4ms/step - loss: 0.2833 - accuracy: 0.8819 - val_loss: 0.3409 - val_accuracy: 0.8595\n",
            "Epoch 16/50\n",
            "500/500 [==============================] - 2s 4ms/step - loss: 0.2710 - accuracy: 0.8879 - val_loss: 0.3223 - val_accuracy: 0.8662\n",
            "Epoch 17/50\n",
            "500/500 [==============================] - 2s 4ms/step - loss: 0.2669 - accuracy: 0.8892 - val_loss: 0.2974 - val_accuracy: 0.8795\n",
            "Epoch 18/50\n",
            "500/500 [==============================] - 2s 4ms/step - loss: 0.2546 - accuracy: 0.8962 - val_loss: 0.3013 - val_accuracy: 0.8777\n",
            "Epoch 19/50\n",
            "500/500 [==============================] - 2s 4ms/step - loss: 0.2470 - accuracy: 0.8998 - val_loss: 0.2864 - val_accuracy: 0.8827\n",
            "Epoch 20/50\n",
            "500/500 [==============================] - 2s 4ms/step - loss: 0.2379 - accuracy: 0.9046 - val_loss: 0.2686 - val_accuracy: 0.8935\n",
            "Epoch 21/50\n",
            "500/500 [==============================] - 2s 4ms/step - loss: 0.2322 - accuracy: 0.9091 - val_loss: 0.2817 - val_accuracy: 0.8880\n",
            "Epoch 22/50\n",
            "500/500 [==============================] - 2s 4ms/step - loss: 0.2280 - accuracy: 0.9061 - val_loss: 0.2724 - val_accuracy: 0.8923\n",
            "Epoch 23/50\n",
            "500/500 [==============================] - 2s 4ms/step - loss: 0.2227 - accuracy: 0.9141 - val_loss: 0.2761 - val_accuracy: 0.8880\n",
            "Epoch 24/50\n",
            "500/500 [==============================] - 2s 4ms/step - loss: 0.2139 - accuracy: 0.9154 - val_loss: 0.2801 - val_accuracy: 0.8880\n",
            "Epoch 25/50\n",
            "500/500 [==============================] - 2s 4ms/step - loss: 0.2123 - accuracy: 0.9171 - val_loss: 0.2709 - val_accuracy: 0.8915\n",
            "Epoch 26/50\n",
            "500/500 [==============================] - 2s 4ms/step - loss: 0.1980 - accuracy: 0.9237 - val_loss: 0.2695 - val_accuracy: 0.8975\n",
            "Epoch 27/50\n",
            "500/500 [==============================] - 2s 4ms/step - loss: 0.1914 - accuracy: 0.9269 - val_loss: 0.2615 - val_accuracy: 0.9000\n",
            "Epoch 28/50\n",
            "500/500 [==============================] - 2s 4ms/step - loss: 0.1912 - accuracy: 0.9261 - val_loss: 0.2641 - val_accuracy: 0.8972\n",
            "Epoch 29/50\n",
            "500/500 [==============================] - 2s 4ms/step - loss: 0.1904 - accuracy: 0.9266 - val_loss: 0.2564 - val_accuracy: 0.8953\n",
            "Epoch 30/50\n",
            "500/500 [==============================] - 2s 4ms/step - loss: 0.1853 - accuracy: 0.9299 - val_loss: 0.2459 - val_accuracy: 0.9032\n",
            "Epoch 31/50\n",
            "500/500 [==============================] - 2s 4ms/step - loss: 0.1745 - accuracy: 0.9352 - val_loss: 0.2568 - val_accuracy: 0.8980\n",
            "Epoch 32/50\n",
            "500/500 [==============================] - 2s 4ms/step - loss: 0.1751 - accuracy: 0.9331 - val_loss: 0.2468 - val_accuracy: 0.9045\n",
            "Epoch 33/50\n",
            "500/500 [==============================] - 2s 4ms/step - loss: 0.1757 - accuracy: 0.9337 - val_loss: 0.2296 - val_accuracy: 0.9115\n",
            "Epoch 34/50\n",
            "500/500 [==============================] - 2s 4ms/step - loss: 0.1678 - accuracy: 0.9356 - val_loss: 0.2431 - val_accuracy: 0.9097\n",
            "Epoch 35/50\n",
            "500/500 [==============================] - 2s 4ms/step - loss: 0.1631 - accuracy: 0.9389 - val_loss: 0.2343 - val_accuracy: 0.9143\n",
            "Epoch 36/50\n",
            "500/500 [==============================] - 2s 4ms/step - loss: 0.1591 - accuracy: 0.9396 - val_loss: 0.2446 - val_accuracy: 0.9120\n",
            "Epoch 37/50\n",
            "500/500 [==============================] - 2s 4ms/step - loss: 0.1569 - accuracy: 0.9426 - val_loss: 0.2543 - val_accuracy: 0.9075\n",
            "Epoch 38/50\n",
            "500/500 [==============================] - 2s 4ms/step - loss: 0.1550 - accuracy: 0.9439 - val_loss: 0.2321 - val_accuracy: 0.9158\n",
            "Epoch 39/50\n",
            "500/500 [==============================] - 2s 4ms/step - loss: 0.1498 - accuracy: 0.9439 - val_loss: 0.2301 - val_accuracy: 0.9172\n",
            "Epoch 40/50\n",
            "500/500 [==============================] - 2s 4ms/step - loss: 0.1457 - accuracy: 0.9482 - val_loss: 0.2534 - val_accuracy: 0.9140\n",
            "Epoch 41/50\n",
            "500/500 [==============================] - 2s 4ms/step - loss: 0.1455 - accuracy: 0.9476 - val_loss: 0.2273 - val_accuracy: 0.9178\n",
            "Epoch 42/50\n",
            "500/500 [==============================] - 2s 4ms/step - loss: 0.1428 - accuracy: 0.9486 - val_loss: 0.2234 - val_accuracy: 0.9187\n",
            "Epoch 43/50\n",
            "500/500 [==============================] - 2s 4ms/step - loss: 0.1406 - accuracy: 0.9476 - val_loss: 0.2325 - val_accuracy: 0.9147\n",
            "Epoch 44/50\n",
            "500/500 [==============================] - 2s 4ms/step - loss: 0.1371 - accuracy: 0.9498 - val_loss: 0.2193 - val_accuracy: 0.9220\n",
            "Epoch 45/50\n",
            "500/500 [==============================] - 2s 4ms/step - loss: 0.1275 - accuracy: 0.9528 - val_loss: 0.2175 - val_accuracy: 0.9218\n",
            "Epoch 46/50\n",
            "500/500 [==============================] - 2s 4ms/step - loss: 0.1304 - accuracy: 0.9533 - val_loss: 0.2098 - val_accuracy: 0.9335\n",
            "Epoch 47/50\n",
            "500/500 [==============================] - 2s 4ms/step - loss: 0.1239 - accuracy: 0.9554 - val_loss: 0.2154 - val_accuracy: 0.9273\n",
            "Epoch 48/50\n",
            "500/500 [==============================] - 2s 4ms/step - loss: 0.1202 - accuracy: 0.9578 - val_loss: 0.2085 - val_accuracy: 0.9280\n",
            "Epoch 49/50\n",
            "500/500 [==============================] - 2s 4ms/step - loss: 0.1159 - accuracy: 0.9590 - val_loss: 0.2068 - val_accuracy: 0.9325\n",
            "Epoch 50/50\n",
            "500/500 [==============================] - 2s 4ms/step - loss: 0.1112 - accuracy: 0.9596 - val_loss: 0.2171 - val_accuracy: 0.9258\n"
          ],
          "name": "stdout"
        }
      ]
    },
    {
      "cell_type": "code",
      "metadata": {
        "id": "fODicX6IpBvI",
        "outputId": "2f8c7964-a9a1-4a8a-bae9-10265af60530",
        "colab": {
          "base_uri": "https://localhost:8080/",
          "height": 51
        }
      },
      "source": [
        "#teste com par de imagens diferentes\n",
        "print(model.predict([np.array([X_train[0]]),np.array([X_train[1]])]))\n",
        "#teste com par de imagens iguais\n",
        "print(model.predict([np.array([X_train[8896]]),np.array([X_train[8897]])]))"
      ],
      "execution_count": 26,
      "outputs": [
        {
          "output_type": "stream",
          "text": [
            "[[0.00180862]]\n",
            "[[0.99727976]]\n"
          ],
          "name": "stdout"
        }
      ]
    },
    {
      "cell_type": "code",
      "metadata": {
        "id": "Yad2zeQUvjVM",
        "outputId": "91684a74-82da-4af0-c72e-2dbdb49fc16a",
        "colab": {
          "base_uri": "https://localhost:8080/",
          "height": 644
        }
      },
      "source": [
        "dot_img_file = '/model_1.png'\n",
        "tf.keras.utils.plot_model(model, to_file=dot_img_file, show_shapes=True)"
      ],
      "execution_count": 22,
      "outputs": [
        {
          "output_type": "execute_result",
          "data": {
            "image/png": "[encoded data removed]",
            "text/plain": [
              "<IPython.core.display.Image object>"
            ]
          },
          "metadata": {
            "tags": []
          },
          "execution_count": 22
        }
      ]
    },
    {
      "cell_type": "code",
      "metadata": {
        "id": "sYcoZ1ji2GqM"
      },
      "source": [
        ""
      ],
      "execution_count": null,
      "outputs": []
    }
  ]
}